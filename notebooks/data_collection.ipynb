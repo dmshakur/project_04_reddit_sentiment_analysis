{
 "cells": [
  {
   "cell_type": "code",
   "execution_count": 1,
   "metadata": {},
   "outputs": [],
   "source": [
    "import sys\n",
    "import sqlite3\n",
    "\n",
    "import pandas as pd\n",
    "import praw"
   ]
  },
  {
   "cell_type": "code",
   "execution_count": 2,
   "metadata": {},
   "outputs": [],
   "source": [
    "reddit_api_access = {}\n",
    "\n",
    "with open('../reddit_api_data', 'r') as file:\n",
    "    for line in file:\n",
    "        key, val = line.split(',')\n",
    "        reddit_api_access[key] = val.strip()"
   ]
  },
  {
   "cell_type": "code",
   "execution_count": 3,
   "metadata": {},
   "outputs": [],
   "source": [
    "reddit = praw.Reddit(\n",
    "    client_id = reddit_api_access['client_id'],\n",
    "    client_secret = reddit_api_access['client_secret'],\n",
    "    password = reddit_api_access['password'],\n",
    "    user_agent = reddit_api_access['user_agent'],\n",
    "    username = reddit_api_access['username']\n",
    ")"
   ]
  },
  {
   "cell_type": "code",
   "execution_count": 4,
   "metadata": {},
   "outputs": [
    {
     "data": {
      "text/plain": [
       "'0.00005341'"
      ]
     },
     "execution_count": 4,
     "metadata": {},
     "output_type": "execute_result"
    }
   ],
   "source": [
    "subreddit = reddit.subreddit('love')\n",
    "top_posts = subreddit.hot(limit = 200)\n",
    "format(sys.getsizeof(top_posts) / (1024 ** 2), '.8f')"
   ]
  },
  {
   "cell_type": "code",
   "execution_count": 5,
   "metadata": {},
   "outputs": [
    {
     "ename": "OperationalError",
     "evalue": "near \"ve\": syntax error",
     "output_type": "error",
     "traceback": [
      "\u001b[1;31m---------------------------------------------------------------------------\u001b[0m",
      "\u001b[1;31mOperationalError\u001b[0m                          Traceback (most recent call last)",
      "Cell \u001b[1;32mIn[5], line 22\u001b[0m\n\u001b[0;32m      6\u001b[0m cursor\u001b[38;5;241m.\u001b[39mexecute(\n\u001b[0;32m      7\u001b[0m     \u001b[38;5;124mf\u001b[39m\u001b[38;5;124m'''\u001b[39m\n\u001b[0;32m      8\u001b[0m \u001b[38;5;124m        CREATE TABLE IF NOT EXISTS \u001b[39m\u001b[38;5;132;01m{\u001b[39;00mtable_name\u001b[38;5;132;01m}\u001b[39;00m\n\u001b[1;32m   (...)\u001b[0m\n\u001b[0;32m     18\u001b[0m \u001b[38;5;124m    \u001b[39m\u001b[38;5;124m'''\u001b[39m\n\u001b[0;32m     19\u001b[0m )\n\u001b[0;32m     21\u001b[0m \u001b[38;5;28;01mfor\u001b[39;00m post \u001b[38;5;129;01min\u001b[39;00m top_posts:\n\u001b[1;32m---> 22\u001b[0m     cursor\u001b[38;5;241m.\u001b[39mexecute(\n\u001b[0;32m     23\u001b[0m         \u001b[38;5;124mf\u001b[39m\u001b[38;5;124m\"\"\"\u001b[39m\n\u001b[0;32m     24\u001b[0m \u001b[38;5;124m        INSERT INTO \u001b[39m\u001b[38;5;132;01m{\u001b[39;00mtable_name\u001b[38;5;132;01m}\u001b[39;00m\u001b[38;5;124m (\u001b[39m\n\u001b[0;32m     25\u001b[0m \u001b[38;5;124m            title, score, reddit_post_id, url, num_comments, body\u001b[39m\n\u001b[0;32m     26\u001b[0m \u001b[38;5;124m        ) VALUES (\u001b[39m\n\u001b[0;32m     27\u001b[0m \u001b[38;5;124m            \u001b[39m\u001b[38;5;124m'\u001b[39m\u001b[38;5;132;01m{\u001b[39;00mpost\u001b[38;5;241m.\u001b[39mtitle\u001b[38;5;132;01m}\u001b[39;00m\u001b[38;5;124m'\u001b[39m\u001b[38;5;124m, \u001b[39m\u001b[38;5;124m'\u001b[39m\u001b[38;5;132;01m{\u001b[39;00mpost\u001b[38;5;241m.\u001b[39mscore\u001b[38;5;132;01m}\u001b[39;00m\u001b[38;5;124m'\u001b[39m\u001b[38;5;124m, \u001b[39m\u001b[38;5;124m'\u001b[39m\u001b[38;5;132;01m{\u001b[39;00mpost\u001b[38;5;241m.\u001b[39mid\u001b[38;5;132;01m}\u001b[39;00m\u001b[38;5;124m'\u001b[39m\u001b[38;5;124m, \u001b[39m\u001b[38;5;124m'\u001b[39m\u001b[38;5;132;01m{\u001b[39;00mpost\u001b[38;5;241m.\u001b[39mid\u001b[38;5;132;01m}\u001b[39;00m\u001b[38;5;124m'\u001b[39m\u001b[38;5;124m, \u001b[39m\u001b[38;5;124m'\u001b[39m\u001b[38;5;132;01m{\u001b[39;00mpost\u001b[38;5;241m.\u001b[39mnum_comments\u001b[38;5;132;01m}\u001b[39;00m\u001b[38;5;124m'\u001b[39m\u001b[38;5;124m, \u001b[39m\u001b[38;5;124m'\u001b[39m\u001b[38;5;132;01m{\u001b[39;00mpost\u001b[38;5;241m.\u001b[39mselftext\u001b[38;5;132;01m}\u001b[39;00m\u001b[38;5;124m'\u001b[39m\n\u001b[0;32m     28\u001b[0m \u001b[38;5;124m        );\u001b[39m\n\u001b[0;32m     29\u001b[0m \u001b[38;5;124m        \u001b[39m\u001b[38;5;124m\"\"\"\u001b[39m\n\u001b[0;32m     30\u001b[0m     )\n\u001b[0;32m     32\u001b[0m conn\u001b[38;5;241m.\u001b[39mcommit()\n\u001b[0;32m     33\u001b[0m cursor\u001b[38;5;241m.\u001b[39mexecute(\u001b[38;5;124mf\u001b[39m\u001b[38;5;124m'\u001b[39m\u001b[38;5;124mSELECT * FROM \u001b[39m\u001b[38;5;132;01m{\u001b[39;00mtable_name\u001b[38;5;132;01m}\u001b[39;00m\u001b[38;5;124m;\u001b[39m\u001b[38;5;124m'\u001b[39m)\n",
      "\u001b[1;31mOperationalError\u001b[0m: near \"ve\": syntax error"
     ]
    }
   ],
   "source": [
    "table_name = 'top_200_love_posts_reddit'\n",
    "conn = sqlite3.connect('reddit_love.db')\n",
    "\n",
    "cursor = conn.cursor()\n",
    "\n",
    "cursor.execute(\n",
    "    f'''\n",
    "        CREATE TABLE IF NOT EXISTS {table_name}\n",
    "        (\n",
    "            id INTEGER PRIMARY KEY, \n",
    "            title TEXT, \n",
    "            score INTEGER, \n",
    "            reddit_post_id INTEGER, \n",
    "            url TEXT, \n",
    "            num_comments INTEGER,\n",
    "            body TEXT\n",
    "        );\n",
    "    '''\n",
    ")\n",
    "\n",
    "for post in top_posts:\n",
    "    cursor.execute(\n",
    "        f\"\"\"\n",
    "        INSERT INTO {table_name} (\n",
    "            title, score, reddit_post_id, url, num_comments, body\n",
    "        ) VALUES (\n",
    "            '{post.title}', '{post.score}', '{post.id}', '{post.id}', '{post.num_comments}', '{post.selftext}'\n",
    "        );\n",
    "        \"\"\"\n",
    "    )\n",
    "\n",
    "conn.commit()\n",
    "cursor.execute(f'SELECT * FROM {table_name};')\n",
    "cursor.fetchall()"
   ]
  }
 ],
 "metadata": {
  "kernelspec": {
   "display_name": "base",
   "language": "python",
   "name": "python3"
  },
  "language_info": {
   "codemirror_mode": {
    "name": "ipython",
    "version": 3
   },
   "file_extension": ".py",
   "mimetype": "text/x-python",
   "name": "python",
   "nbconvert_exporter": "python",
   "pygments_lexer": "ipython3",
   "version": "3.11.5"
  }
 },
 "nbformat": 4,
 "nbformat_minor": 2
}
